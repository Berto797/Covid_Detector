{
  "cells": [
    {
      "cell_type": "markdown",
      "metadata": {
        "id": "view-in-github",
        "colab_type": "text"
      },
      "source": [
        "<a href=\"https://colab.research.google.com/github/Berto797/Covid_Detector/blob/Inference_Model/COVID_Detector.ipynb\" target=\"_parent\"><img src=\"https://colab.research.google.com/assets/colab-badge.svg\" alt=\"Open In Colab\"/></a>"
      ]
    },
    {
      "cell_type": "code",
      "source": [
        "import os\n",
        "import zipfile\n",
        "import cv2\n",
        "import random\n",
        "import shutil\n",
        "import glob\n",
        "import tensorflow as tf\n",
        "import numpy as np\n",
        "import matplotlib.pyplot as plt\n",
        "from google.colab.patches import cv2_imshow\n",
        "from tensorflow.keras.preprocessing.image import ImageDataGenerator\n",
        "from tensorflow.keras.models import save_model"
      ],
      "metadata": {
        "id": "NAlilHnjia5P"
      },
      "execution_count": 1,
      "outputs": []
    },
    {
      "cell_type": "code",
      "execution_count": 2,
      "metadata": {
        "colab": {
          "base_uri": "https://localhost:8080/"
        },
        "id": "OBgb8j4qLJ33",
        "outputId": "bc170ee3-dcf0-464c-fa1b-35d4af834dc6"
      },
      "outputs": [
        {
          "output_type": "stream",
          "name": "stdout",
          "text": [
            "Mounted at /content/drive\n"
          ]
        }
      ],
      "source": [
        "# Mount Drive\n",
        "from google.colab import drive\n",
        "drive.mount('/content/drive')"
      ]
    },
    {
      "cell_type": "code",
      "execution_count": 3,
      "metadata": {
        "colab": {
          "base_uri": "https://localhost:8080/"
        },
        "id": "0b4uj2JQACZM",
        "outputId": "2e3d0fac-c6df-44b6-b8f3-c3609058bd7e"
      },
      "outputs": [
        {
          "output_type": "stream",
          "name": "stdout",
          "text": [
            "/content\n"
          ]
        }
      ],
      "source": [
        "!pwd"
      ]
    },
    {
      "cell_type": "markdown",
      "metadata": {
        "id": "FcYxcdS5mbsH"
      },
      "source": [
        "# Aplicación de la mascara, separación en subgrupos y guardado\n"
      ]
    },
    {
      "cell_type": "code",
      "execution_count": null,
      "metadata": {
        "id": "biLIZ8_4AelZ"
      },
      "outputs": [],
      "source": [
        "import os\n",
        "import zipfile\n",
        "\n",
        "zip_ref = zipfile.ZipFile('/content/drive/MyDrive/Data/COVID_data/archive.zip', 'r')\n",
        "zip_ref.extractall('data/COVID_data')\n",
        "\n",
        "zip_ref.close()"
      ]
    },
    {
      "cell_type": "code",
      "execution_count": null,
      "metadata": {
        "id": "wz-fhUbQXF2h"
      },
      "outputs": [],
      "source": [
        "import cv2\n",
        "from google.colab.patches import cv2_imshow\n",
        "import numpy as np\n",
        "import os"
      ]
    },
    {
      "cell_type": "code",
      "execution_count": null,
      "metadata": {
        "id": "F1BfLMurDe-6"
      },
      "outputs": [],
      "source": [
        "def mask_apply(image, mask):\n",
        "  img = cv2.imread(image)\n",
        "  #print('Shape and dtype Original IMG:\\n', img.shape, img.dtype)\n",
        "\n",
        "  mask = cv2.imread(mask, cv2.IMREAD_GRAYSCALE)\n",
        "  mask_resize = cv2.resize(mask, (img.shape[0],img.shape[1]))\n",
        "  #print('Shape and dtype Resized MASK:\\n', mask_resize.shape, mask_resize.dtype)\n",
        "\n",
        "  masked_img = cv2.bitwise_and(img,img,mask = mask_resize)\n",
        "\n",
        "  return masked_img\n",
        "\n",
        "#masked_img = mask_apply('/content/data/COVID_data/COVID-19_Radiography_Dataset/COVID/images/COVID-1.png', '/content/data/COVID_data/COVID-19_Radiography_Dataset/COVID/masks/COVID-1.png')\n",
        "#cv2_imshow(masked_img)\n"
      ]
    },
    {
      "cell_type": "code",
      "execution_count": null,
      "metadata": {
        "id": "pRx3gWphWrMS"
      },
      "outputs": [],
      "source": [
        "def save_masked_img(img_dir, mask_dir, save_dir):\n",
        "  for filename in os.listdir(img_dir):\n",
        "    img_path = os.path.join(img_dir, filename)\n",
        "    mask_path = os.path.join(mask_dir, filename)\n",
        "\n",
        "    if os.path.isfile(img_path) and os.path.isfile(mask_path):\n",
        "        masked_img = mask_apply(img_path, mask_path)\n",
        "        os.chdir(save_dir)\n",
        "        cv2.imwrite(filename, masked_img)\n",
        "\n",
        "# Create directories for COVID, Pneumonia, Lung_Opacity and Normal\n",
        "Masked_COVID = '/content/data_mask/Masked_Images/COVID'\n",
        "Masked_Pneumonia = '/content/data_mask/Masked_Images/Viral_Pneumonia'\n",
        "Masked_LungOpacity = '/content/data_mask/Masked_Images/Lung_Opacity'\n",
        "Masked_Normal = '/content/data_mask/Masked_Images/Normal'\n",
        "\n",
        "os.makedirs(Masked_COVID)\n",
        "os.makedirs(Masked_Pneumonia)\n",
        "os.makedirs(Masked_LungOpacity)\n",
        "os.makedirs(Masked_Normal)\n",
        "\n",
        "# Execute function\n",
        "save_masked_img('/content/data/COVID_data/COVID-19_Radiography_Dataset/COVID/images', '/content/data/COVID_data/COVID-19_Radiography_Dataset/COVID/masks', Masked_COVID)\n",
        "save_masked_img('/content/data/COVID_data/COVID-19_Radiography_Dataset/Viral Pneumonia/images', '/content/data/COVID_data/COVID-19_Radiography_Dataset/Viral Pneumonia/masks', Masked_Pneumonia)\n",
        "save_masked_img('/content/data/COVID_data/COVID-19_Radiography_Dataset/Lung_Opacity/images', '/content/data/COVID_data/COVID-19_Radiography_Dataset/Lung_Opacity/masks', Masked_LungOpacity)\n",
        "save_masked_img('/content/data/COVID_data/COVID-19_Radiography_Dataset/Normal/images', '/content/data/COVID_data/COVID-19_Radiography_Dataset/Normal/masks', Masked_Normal)\n"
      ]
    },
    {
      "cell_type": "code",
      "execution_count": null,
      "metadata": {
        "id": "nXe5wGr3e7tQ"
      },
      "outputs": [],
      "source": [
        "import random\n",
        "import shutil\n",
        "\n",
        "def train_validation_split(source_dir, train_dir, val_dir, not_used_dir, split_size, img_used):\n",
        "  '''\n",
        "  Función para separar entre imagenes de entreno, validación y no usadas para el modelo\n",
        "  Parámetros:\n",
        "    source_dir --> Directorio de origen con todas las imagenes\n",
        "    train_dir --> Directorio donde guardar las imágenes de entreno\n",
        "    val_dir --> Directorio donde guardar las imágenes de validación\n",
        "    not_used_dir --> Directorio donde guardar las imágenes no utilizadas en el modelo\n",
        "    split_size --> Tanto por uno que inidca la cantidad de imagenes de entreno sobre el total\n",
        "    img_used --> Tanto por uno que indica la cantidad total de imagenes utilizadas entre train y val\n",
        "  '''\n",
        "  lung_images = os.listdir(source_dir)\n",
        "  revised_images = []\n",
        "\n",
        "  for image in lung_images:\n",
        "    if os.path.getsize(os.path.join(source_dir, image)) == 0:\n",
        "      print(f\"{image} is zero length, so ignoring.\")\n",
        "    else:\n",
        "      revised_images.append(image)\n",
        "\n",
        "  rand_revised_lung = random.sample(revised_images, len(revised_images))\n",
        "  img_used_size = round(len(rand_revised_lung)*img_used)\n",
        "  train_size = round(img_used_size*split_size)\n",
        "\n",
        "  for pos in range(len(rand_revised_lung)):\n",
        "    source_path = os.path.join(source_dir,  rand_revised_lung[pos])\n",
        "    if pos < train_size:\n",
        "      destination_path = os.path.join(train_dir, rand_revised_lung[pos])\n",
        "      shutil.copyfile(source_path, destination_path)\n",
        "    elif pos >= train_size and pos < img_used_size:\n",
        "      destination_path = os.path.join(val_dir, rand_revised_lung[pos])\n",
        "      shutil.copyfile(source_path, destination_path)\n",
        "    else:\n",
        "      destination_path = os.path.join(not_used_dir, rand_revised_lung[pos])\n",
        "      shutil.copyfile(source_path, destination_path)"
      ]
    },
    {
      "cell_type": "code",
      "execution_count": null,
      "metadata": {
        "id": "TP3KabxCqj7X"
      },
      "outputs": [],
      "source": [
        "import shutil\n",
        "\n",
        "shutil.rmtree('/content/data_model/Train')\n",
        "shutil.rmtree('/content/data_model/Validation')\n",
        "#shutil.rmtree('/content/data_model/Not_Used')"
      ]
    },
    {
      "cell_type": "code",
      "execution_count": null,
      "metadata": {
        "id": "1swz_uYbqfp8"
      },
      "outputs": [],
      "source": [
        "train_dir = '/content/data_model/Train/'\n",
        "validation_dir = '/content/data_model/Validation/'\n",
        "not_used_dir = '/content/data_Not_Used/'\n",
        "\n",
        "cat_list = ['COVID/', 'Viral_Pneumonia/', 'Lung_Opacity/', 'Normal/']\n",
        "for cat in cat_list:\n",
        "  train_cat = os.path.join(train_dir, cat)\n",
        "  os.makedirs(train_cat)\n",
        "\n",
        "  val_cat = os.path.join(validation_dir, cat)\n",
        "  os.makedirs(val_cat)\n",
        "\n",
        "  not_used_cat = os.path.join(not_used_dir, cat)\n",
        "  os.makedirs(not_used_cat)"
      ]
    },
    {
      "cell_type": "code",
      "execution_count": null,
      "metadata": {
        "id": "YZ_u1zmXqlFi"
      },
      "outputs": [],
      "source": [
        "split_size = 0.8\n",
        "img_used = 1\n",
        "\n",
        "train_COVID = '/content/data_model/Train/COVID/'\n",
        "train_Pneumonia = '/content/data_model/Train/Viral_Pneumonia/'\n",
        "train_LungOpacity = '/content/data_model/Train/Lung_Opacity/'\n",
        "train_Normal = '/content/data_model/Train/Normal/'\n",
        "\n",
        "validation_COVID = '/content/data_model/Validation/COVID/'\n",
        "validation_Pneumonia = '/content/data_model/Validation/Viral_Pneumonia/'\n",
        "validation_LungOpacity = '/content/data_model/Validation/Lung_Opacity/'\n",
        "validation_Normal = '/content/data_model/Validation/Normal/'\n",
        "\n",
        "not_used_COVID = '/content/data_Not_Used/COVID/'\n",
        "not_used_Pneumonia = '/content/data_Not_Used/Viral_Pneumonia/'\n",
        "not_used_LungOpacity = '/content/data_Not_Used/Lung_Opacity/'\n",
        "not_used_Normal = '/content/data_Not_Used/Normal/'\n",
        "\n",
        "train_validation_split('/content/data_mask/Masked_Images/COVID', train_COVID, validation_COVID, not_used_COVID, split_size, img_used)\n",
        "train_validation_split('/content/data_mask/Masked_Images/Viral_Pneumonia', train_Pneumonia, validation_Pneumonia, not_used_Pneumonia, split_size, img_used)\n",
        "train_validation_split('/content/data_mask/Masked_Images/Lung_Opacity', train_LungOpacity, validation_LungOpacity, not_used_LungOpacity, split_size, img_used)\n",
        "train_validation_split('/content/data_mask/Masked_Images/Normal', train_Normal, validation_Normal, not_used_Normal, split_size, img_used)"
      ]
    },
    {
      "cell_type": "code",
      "source": [
        "def train_val_split_batches(source_dir, train_dir, val_dir, split_size, num_batches, cat):\n",
        "  lung_images = os.listdir(source_dir)\n",
        "  revised_images = []\n",
        "\n",
        "  for image in lung_images:\n",
        "    if os.path.getsize(os.path.join(source_dir, image)) == 0:\n",
        "      print(f\"{image} is zero length, so ignoring.\")\n",
        "    else:\n",
        "      revised_images.append(image)\n",
        "\n",
        "  rand_revised_lung = random.sample(revised_images, len(revised_images))\n",
        "  img_batch = round(len(revised_images)/num_batches)\n",
        "  left_img = len(revised_images) % num_batches\n",
        "\n",
        "  for batch in range(1, num_batches+1):\n",
        "    if batch == num_batches:\n",
        "      train_size_batch = (img_batch*batch+left_img - img_batch*(batch-1))*split_size + img_batch*(batch-1)\n",
        "    else:\n",
        "      train_size_batch = (img_batch*batch - img_batch*(batch-1))*split_size + img_batch*(batch-1)\n",
        "\n",
        "    for pos in range(img_batch*(batch-1),img_batch*batch+left_img):\n",
        "      source_path = os.path.join(source_dir,  rand_revised_lung[pos])\n",
        "      if pos <= train_size_batch:\n",
        "        batch_path = os.path.join(train_dir, f'batch_{batch}/')\n",
        "        batch_path = os.path.join(batch_path, f'{cat}/')\n",
        "        destination_path = os.path.join(batch_path, rand_revised_lung[pos])\n",
        "        shutil.copyfile(source_path, destination_path)\n",
        "      else:\n",
        "        batch_path = os.path.join(val_dir, f'batch_{batch}/')\n",
        "        batch_path = os.path.join(batch_path, f'{cat}/')\n",
        "        destination_path = os.path.join(batch_path, rand_revised_lung[pos])\n",
        "        shutil.copyfile(source_path, destination_path)\n"
      ],
      "metadata": {
        "id": "qHAX25e5i1oK"
      },
      "execution_count": null,
      "outputs": []
    },
    {
      "cell_type": "code",
      "source": [
        "train_dir = '/content/data_model/Train/'\n",
        "validation_dir = '/content/data_model/Validation/'\n",
        "\n",
        "num_batches = 4\n",
        "cat_list = ['COVID/', 'Viral_Pneumonia/', 'Lung_Opacity/', 'Normal/']\n",
        "for batch in range(1, num_batches+1):\n",
        "  for cat in cat_list:\n",
        "    train_batch_path = os.path.join(train_dir, f'batch_{batch}')\n",
        "    train_batch_cat = os.path.join(train_batch_path, cat)\n",
        "    os.makedirs(train_batch_cat)\n",
        "\n",
        "    val_batch_path = os.path.join(validation_dir, f'batch_{batch}')\n",
        "    val_batch_cat = os.path.join(val_batch_path, cat)\n",
        "    os.makedirs(val_batch_cat)"
      ],
      "metadata": {
        "id": "7mSPz0ysyfhO"
      },
      "execution_count": null,
      "outputs": []
    },
    {
      "cell_type": "code",
      "source": [
        "split_size = 0.8\n",
        "num_batches = 4\n",
        "train_dir = '/content/data_model/Train/'\n",
        "validation_dir = '/content/data_model/Validation/'\n",
        "\n",
        "train_val_split_batches('/content/data_model/Masked_Images/COVID', train_dir, validation_dir, split_size, num_batches, 'COVID')\n",
        "train_val_split_batches('/content/data_model/Masked_Images/Viral_Pneumonia', train_dir, validation_dir, split_size, num_batches, 'Viral_Pneumonia')\n",
        "train_val_split_batches('/content/data_model/Masked_Images/Lung_Opacity', train_dir, validation_dir, split_size, num_batches, 'Lung_Opacity')\n",
        "train_val_split_batches('/content/data_model/Masked_Images/Normal', train_dir, validation_dir, split_size, num_batches, 'Normal')"
      ],
      "metadata": {
        "id": "-RnNMt_zxIKL"
      },
      "execution_count": null,
      "outputs": []
    },
    {
      "cell_type": "code",
      "execution_count": null,
      "metadata": {
        "id": "UgyS5GYj4csR",
        "colab": {
          "base_uri": "https://localhost:8080/",
          "height": 35
        },
        "outputId": "4a71b663-205d-4201-bc40-4ce0dd0ff17b"
      },
      "outputs": [
        {
          "output_type": "execute_result",
          "data": {
            "text/plain": [
              "'/content/100img_dataset.zip'"
            ],
            "application/vnd.google.colaboratory.intrinsic+json": {
              "type": "string"
            }
          },
          "metadata": {},
          "execution_count": 11
        }
      ],
      "source": [
        "import shutil\n",
        "\n",
        "shutil.make_archive('/content/100img_dataset', 'zip', '/content/data_model/')"
      ]
    },
    {
      "cell_type": "code",
      "execution_count": null,
      "metadata": {
        "id": "CDydWXdg8Cx6",
        "colab": {
          "base_uri": "https://localhost:8080/",
          "height": 17
        },
        "outputId": "310b8111-c754-4039-cbd1-b2fc63dac596"
      },
      "outputs": [
        {
          "output_type": "display_data",
          "data": {
            "text/plain": [
              "<IPython.core.display.Javascript object>"
            ],
            "application/javascript": [
              "\n",
              "    async function download(id, filename, size) {\n",
              "      if (!google.colab.kernel.accessAllowed) {\n",
              "        return;\n",
              "      }\n",
              "      const div = document.createElement('div');\n",
              "      const label = document.createElement('label');\n",
              "      label.textContent = `Downloading \"${filename}\": `;\n",
              "      div.appendChild(label);\n",
              "      const progress = document.createElement('progress');\n",
              "      progress.max = size;\n",
              "      div.appendChild(progress);\n",
              "      document.body.appendChild(div);\n",
              "\n",
              "      const buffers = [];\n",
              "      let downloaded = 0;\n",
              "\n",
              "      const channel = await google.colab.kernel.comms.open(id);\n",
              "      // Send a message to notify the kernel that we're ready.\n",
              "      channel.send({})\n",
              "\n",
              "      for await (const message of channel.messages) {\n",
              "        // Send a message to notify the kernel that we're ready.\n",
              "        channel.send({})\n",
              "        if (message.buffers) {\n",
              "          for (const buffer of message.buffers) {\n",
              "            buffers.push(buffer);\n",
              "            downloaded += buffer.byteLength;\n",
              "            progress.value = downloaded;\n",
              "          }\n",
              "        }\n",
              "      }\n",
              "      const blob = new Blob(buffers, {type: 'application/binary'});\n",
              "      const a = document.createElement('a');\n",
              "      a.href = window.URL.createObjectURL(blob);\n",
              "      a.download = filename;\n",
              "      div.appendChild(a);\n",
              "      a.click();\n",
              "      div.remove();\n",
              "    }\n",
              "  "
            ]
          },
          "metadata": {}
        },
        {
          "output_type": "display_data",
          "data": {
            "text/plain": [
              "<IPython.core.display.Javascript object>"
            ],
            "application/javascript": [
              "download(\"download_a46029c2-1225-44b0-be0a-7fe344cb2236\", \"100img_dataset.zip\", 670890121)"
            ]
          },
          "metadata": {}
        }
      ],
      "source": [
        "from google.colab import files\n",
        "\n",
        "files.download('/content/100img_dataset.zip')"
      ]
    },
    {
      "cell_type": "markdown",
      "metadata": {
        "id": "uL49uZg3msGN"
      },
      "source": [
        "# Exportado subgrupos de imágenes preparadas para el entreno"
      ]
    },
    {
      "cell_type": "code",
      "execution_count": 4,
      "metadata": {
        "id": "XVPgvfI0mq7p"
      },
      "outputs": [],
      "source": [
        "import os\n",
        "import zipfile\n",
        "\n",
        "#zip_ref = zipfile.ZipFile('/content/drive/MyDrive/Data/COVID_data/25perIMG_datasett.zip', 'r')\n",
        "zip_ref = zipfile.ZipFile('/content/drive/MyDrive/Data/COVID_data/100img_dataset.zip', 'r')\n",
        "#zip_ref = zipfile.ZipFile('/content/drive/MyDrive/Data/100img_dataset.zip', 'r')\n",
        "#zip_ref = zipfile.ZipFile('/content/drive/MyDrive/Data/COVID_data/Balanced_dataset.zip', 'r')\n",
        "\n",
        "zip_ref.extractall('/content/data_model/')\n",
        "\n",
        "zip_ref.close()"
      ]
    },
    {
      "cell_type": "code",
      "source": [
        "source_dir = '/content/data_model/Train/Normal/'\n",
        "train_Normal_dir = '/content/data_model/Used_Normal_Train/'\n",
        "os.makedirs(train_Normal_dir)\n",
        "not_used_Normal_dir = '/content/data_model/Not_Used_Normal_Train/'\n",
        "os.makedirs(not_used_Normal_dir)\n",
        "\n",
        "images = os.listdir(source_dir)\n",
        "rand_images = random.sample(images, len(images))\n",
        "\n",
        "for pos in range(len(rand_images)):\n",
        "  if pos <= 5500:\n",
        "    source_path = os.path.join(source_dir,  rand_images[pos])\n",
        "    destination_path = os.path.join(train_Normal_dir, rand_images[pos])\n",
        "    shutil.copyfile(source_path, destination_path)\n",
        "  else:\n",
        "    source_path = os.path.join(source_dir,  rand_images[pos])\n",
        "    destination_path = os.path.join(not_used_Normal_dir, rand_images[pos])\n",
        "    shutil.copyfile(source_path, destination_path)"
      ],
      "metadata": {
        "id": "FQgp_0AyKcrs"
      },
      "execution_count": null,
      "outputs": []
    },
    {
      "cell_type": "code",
      "source": [
        "images_used = os.listdir('/content/data_model/Used_Normal_Train/')\n",
        "print(f'Images Normal used: {len(images_used)}')\n",
        "images_not_used = os.listdir('/content/data_model/Not_Used_Normal_Train/')\n",
        "print(f'Images Normal not used: {len(images_not_used)}')"
      ],
      "metadata": {
        "colab": {
          "base_uri": "https://localhost:8080/"
        },
        "id": "LSST8cPALQqP",
        "outputId": "a0358213-8cb5-4647-9a96-e475abe95ba4"
      },
      "execution_count": null,
      "outputs": [
        {
          "output_type": "stream",
          "name": "stdout",
          "text": [
            "Images Normal used: 5501\n",
            "Images Normal not used: 2653\n"
          ]
        }
      ]
    },
    {
      "cell_type": "code",
      "source": [
        "import shutil\n",
        "from google.colab import files\n",
        "\n",
        "shutil.make_archive('/content/Normal_used', 'zip', '/content/data_model/Used_Normal_Train')\n",
        "shutil.make_archive('/content/Normal_not_used', 'zip', '/content/data_model/Not_Used_Normal_Train')\n",
        "\n",
        "files.download('/content/Normal_used.zip')\n",
        "files.download('/content/Normal_not_used.zip')"
      ],
      "metadata": {
        "colab": {
          "base_uri": "https://localhost:8080/",
          "height": 17
        },
        "id": "3Jr2Guk5PyjV",
        "outputId": "2e880f20-ce2d-49a5-c508-858059d2e761"
      },
      "execution_count": null,
      "outputs": [
        {
          "output_type": "display_data",
          "data": {
            "text/plain": [
              "<IPython.core.display.Javascript object>"
            ],
            "application/javascript": [
              "\n",
              "    async function download(id, filename, size) {\n",
              "      if (!google.colab.kernel.accessAllowed) {\n",
              "        return;\n",
              "      }\n",
              "      const div = document.createElement('div');\n",
              "      const label = document.createElement('label');\n",
              "      label.textContent = `Downloading \"${filename}\": `;\n",
              "      div.appendChild(label);\n",
              "      const progress = document.createElement('progress');\n",
              "      progress.max = size;\n",
              "      div.appendChild(progress);\n",
              "      document.body.appendChild(div);\n",
              "\n",
              "      const buffers = [];\n",
              "      let downloaded = 0;\n",
              "\n",
              "      const channel = await google.colab.kernel.comms.open(id);\n",
              "      // Send a message to notify the kernel that we're ready.\n",
              "      channel.send({})\n",
              "\n",
              "      for await (const message of channel.messages) {\n",
              "        // Send a message to notify the kernel that we're ready.\n",
              "        channel.send({})\n",
              "        if (message.buffers) {\n",
              "          for (const buffer of message.buffers) {\n",
              "            buffers.push(buffer);\n",
              "            downloaded += buffer.byteLength;\n",
              "            progress.value = downloaded;\n",
              "          }\n",
              "        }\n",
              "      }\n",
              "      const blob = new Blob(buffers, {type: 'application/binary'});\n",
              "      const a = document.createElement('a');\n",
              "      a.href = window.URL.createObjectURL(blob);\n",
              "      a.download = filename;\n",
              "      div.appendChild(a);\n",
              "      a.click();\n",
              "      div.remove();\n",
              "    }\n",
              "  "
            ]
          },
          "metadata": {}
        },
        {
          "output_type": "display_data",
          "data": {
            "text/plain": [
              "<IPython.core.display.Javascript object>"
            ],
            "application/javascript": [
              "download(\"download_a01bab82-6f6e-4065-9b59-b3bdc77bea50\", \"Normal_used.zip\", 186779442)"
            ]
          },
          "metadata": {}
        },
        {
          "output_type": "display_data",
          "data": {
            "text/plain": [
              "<IPython.core.display.Javascript object>"
            ],
            "application/javascript": [
              "\n",
              "    async function download(id, filename, size) {\n",
              "      if (!google.colab.kernel.accessAllowed) {\n",
              "        return;\n",
              "      }\n",
              "      const div = document.createElement('div');\n",
              "      const label = document.createElement('label');\n",
              "      label.textContent = `Downloading \"${filename}\": `;\n",
              "      div.appendChild(label);\n",
              "      const progress = document.createElement('progress');\n",
              "      progress.max = size;\n",
              "      div.appendChild(progress);\n",
              "      document.body.appendChild(div);\n",
              "\n",
              "      const buffers = [];\n",
              "      let downloaded = 0;\n",
              "\n",
              "      const channel = await google.colab.kernel.comms.open(id);\n",
              "      // Send a message to notify the kernel that we're ready.\n",
              "      channel.send({})\n",
              "\n",
              "      for await (const message of channel.messages) {\n",
              "        // Send a message to notify the kernel that we're ready.\n",
              "        channel.send({})\n",
              "        if (message.buffers) {\n",
              "          for (const buffer of message.buffers) {\n",
              "            buffers.push(buffer);\n",
              "            downloaded += buffer.byteLength;\n",
              "            progress.value = downloaded;\n",
              "          }\n",
              "        }\n",
              "      }\n",
              "      const blob = new Blob(buffers, {type: 'application/binary'});\n",
              "      const a = document.createElement('a');\n",
              "      a.href = window.URL.createObjectURL(blob);\n",
              "      a.download = filename;\n",
              "      div.appendChild(a);\n",
              "      a.click();\n",
              "      div.remove();\n",
              "    }\n",
              "  "
            ]
          },
          "metadata": {}
        },
        {
          "output_type": "display_data",
          "data": {
            "text/plain": [
              "<IPython.core.display.Javascript object>"
            ],
            "application/javascript": [
              "download(\"download_12f2e28a-ec28-487d-b48c-0597a857284c\", \"Normal_not_used.zip\", 90373017)"
            ]
          },
          "metadata": {}
        }
      ]
    },
    {
      "cell_type": "markdown",
      "metadata": {
        "id": "sgxc6LHkzt0c"
      },
      "source": [
        "# Image generator y modelo"
      ]
    },
    {
      "cell_type": "code",
      "execution_count": 5,
      "metadata": {
        "colab": {
          "base_uri": "https://localhost:8080/"
        },
        "id": "5Y8qjwiGcjrk",
        "outputId": "ed0096d1-46f0-4bcb-8279-9a133f927b6b"
      },
      "outputs": [
        {
          "output_type": "stream",
          "name": "stdout",
          "text": [
            "Found 16933 images belonging to 4 classes.\n",
            "Found 4232 images belonging to 4 classes.\n"
          ]
        }
      ],
      "source": [
        "import tensorflow as tf\n",
        "from tensorflow.keras.preprocessing.image import ImageDataGenerator\n",
        "\n",
        "TRAINING_DIR = '/content/data_model/Train/'\n",
        "training_datagen = ImageDataGenerator(\n",
        "      rescale = 1./255,\n",
        "\t    rotation_range=15,\n",
        "      #width_shift_range=0.2,\n",
        "      #height_shift_range=0.2,\n",
        "      #shear_range=0.2,\n",
        "      zoom_range=0.2)\n",
        "      #horizontal_flip=True,\n",
        "      #fill_mode='nearest')\n",
        "\n",
        "#training_datagen = ImageDataGenerator(rescale = 1./255)\n",
        "\n",
        "VALIDATION_DIR = '/content/data_model/Validation/'\n",
        "validation_datagen = ImageDataGenerator(rescale = 1./255)\n",
        "\n",
        "train_generator = training_datagen.flow_from_directory(\n",
        "\tTRAINING_DIR,\n",
        "\ttarget_size=(256,256),\n",
        "  #target_size=(299,299),\n",
        "\tclass_mode='categorical',\n",
        "  batch_size=32\n",
        ")\n",
        "\n",
        "validation_generator = validation_datagen.flow_from_directory(\n",
        "\tVALIDATION_DIR,\n",
        "\ttarget_size=(256,256),\n",
        "  #target_size=(299,299),\n",
        "\tclass_mode='categorical',\n",
        "  batch_size=32\n",
        ")\n"
      ]
    },
    {
      "cell_type": "code",
      "source": [
        "import os\n",
        "from tensorflow.keras.callbacks import (EarlyStopping, ModelCheckpoint, ReduceLROnPlateau, LearningRateScheduler)\n",
        "\n",
        "early_stopping = EarlyStopping(monitor='val_loss', patience=10, restore_best_weights=True)\n",
        "\n",
        "model_save = ModelCheckpoint('/content/weights/Model.h5', save_best_only=True, monitor='val_loss', verbose=1)\n",
        "\n",
        "if not os.path.exists('/content/weights'):\n",
        "  os.makedirs('/content/weights', mode=0o770, exist_ok=True)\n",
        "\n",
        "reduce_lr = ReduceLROnPlateau(monitor='val_loss', factor=0.85, patience=2, cooldown=1, verbose=1)\n",
        "\n",
        "lr_schedule = LearningRateScheduler(lambda epoch: 1e-4 * 10**(epoch / 20))"
      ],
      "metadata": {
        "id": "aH_CpBL4jbsI"
      },
      "execution_count": 6,
      "outputs": []
    },
    {
      "cell_type": "markdown",
      "source": [
        "## Modelo sin Batch Normalization"
      ],
      "metadata": {
        "id": "mr-hFqe-vCY6"
      }
    },
    {
      "cell_type": "code",
      "execution_count": null,
      "metadata": {
        "id": "iRG_0qwr20si"
      },
      "outputs": [],
      "source": [
        "def model():\n",
        "  model = tf.keras.models.Sequential([\n",
        "      tf.keras.layers.Conv2D(32, (3,3), activation='swish', input_shape=(150, 150, 3)),\n",
        "      tf.keras.layers.MaxPooling2D(2,2),\n",
        "      tf.keras.layers.Dropout(0.2),\n",
        "\n",
        "      tf.keras.layers.Conv2D(64, (3,3), activation='swish'),\n",
        "      tf.keras.layers.MaxPooling2D(2,2),\n",
        "      tf.keras.layers.Dropout(0.2),\n",
        "\n",
        "      tf.keras.layers.Conv2D(64, (3,3), activation='swish'),\n",
        "      tf.keras.layers.MaxPooling2D(2,2),\n",
        "      tf.keras.layers.Dropout(0.2),\n",
        "\n",
        "      tf.keras.layers.Conv2D(64, (3,3), activation='swish'),\n",
        "      tf.keras.layers.MaxPooling2D(2,2),\n",
        "      tf.keras.layers.Dropout(0.2),\n",
        "\n",
        "      tf.keras.layers.Conv2D(64, (3,3), activation='swish'),\n",
        "      tf.keras.layers.MaxPooling2D(2,2),\n",
        "      tf.keras.layers.Dropout(0.2),\n",
        "\n",
        "      tf.keras.layers.GlobalAveragePooling2D(),\n",
        "\n",
        "      tf.keras.layers.Dense(512, activation='swish'),\n",
        "\n",
        "      tf.keras.layers.Dense(4, activation='softmax')\n",
        "    ])\n",
        "\n",
        "  optimizer = tf.keras.optimizers.RMSprop(learning_rate=0.0014)\n",
        "  model.compile(loss = 'categorical_crossentropy', optimizer=optimizer, metrics=['accuracy'])\n",
        "\n",
        "  model.summary()\n",
        "\n",
        "  return model"
      ]
    },
    {
      "cell_type": "markdown",
      "source": [
        "## Modelo con Batch Normalization. Input size (150, 150, 3)"
      ],
      "metadata": {
        "id": "JSoAgWVLvGsw"
      }
    },
    {
      "cell_type": "code",
      "source": [
        "def model_BN():\n",
        "  model = tf.keras.models.Sequential([\n",
        "      tf.keras.layers.Conv2D(32, (3,3), input_shape=(150, 150, 3)),\n",
        "      tf.keras.layers.BatchNormalization(),\n",
        "      tf.keras.layers.Activation('swish'),\n",
        "      tf.keras.layers.MaxPooling2D(2,2),\n",
        "      tf.keras.layers.Dropout(0.2),\n",
        "\n",
        "      tf.keras.layers.Conv2D(64, (3,3)),\n",
        "      tf.keras.layers.BatchNormalization(),\n",
        "      tf.keras.layers.Activation('swish'),\n",
        "      tf.keras.layers.MaxPooling2D(2,2),\n",
        "      tf.keras.layers.Dropout(0.2),\n",
        "\n",
        "      tf.keras.layers.Conv2D(64, (3,3)),\n",
        "      tf.keras.layers.BatchNormalization(),\n",
        "      tf.keras.layers.Activation('swish'),\n",
        "      tf.keras.layers.MaxPooling2D(2,2),\n",
        "      tf.keras.layers.Dropout(0.2),\n",
        "\n",
        "      tf.keras.layers.Conv2D(64, (3,3)),\n",
        "      tf.keras.layers.BatchNormalization(),\n",
        "      tf.keras.layers.Activation('swish'),\n",
        "      tf.keras.layers.MaxPooling2D(2,2),\n",
        "      tf.keras.layers.Dropout(0.2),\n",
        "\n",
        "      tf.keras.layers.Conv2D(64, (3,3)),\n",
        "      tf.keras.layers.BatchNormalization(),\n",
        "      tf.keras.layers.Activation('swish'),\n",
        "      tf.keras.layers.MaxPooling2D(2,2),\n",
        "      tf.keras.layers.Dropout(0.2),\n",
        "\n",
        "      tf.keras.layers.GlobalAveragePooling2D(),\n",
        "\n",
        "      tf.keras.layers.Dense(512),\n",
        "      tf.keras.layers.BatchNormalization(),\n",
        "      tf.keras.layers.Activation('swish'),\n",
        "\n",
        "      tf.keras.layers.Dense(4, activation='softmax')\n",
        "    ])\n",
        "\n",
        "  optimizer = tf.keras.optimizers.Adam(learning_rate=0.01)\n",
        "  model.compile(loss = 'categorical_crossentropy', optimizer=optimizer, metrics=['accuracy'])\n",
        "\n",
        "  model.summary()\n",
        "\n",
        "  return model"
      ],
      "metadata": {
        "id": "PbVMa_Zz7M8H"
      },
      "execution_count": null,
      "outputs": []
    },
    {
      "cell_type": "markdown",
      "source": [
        "## Modelo con Batch Normalization. Input size (256, 256, 3)"
      ],
      "metadata": {
        "id": "wvAssqzrvPbW"
      }
    },
    {
      "cell_type": "code",
      "source": [
        "def model_BN_training():\n",
        "  model = tf.keras.models.Sequential([\n",
        "      tf.keras.layers.Conv2D(128, (3,3), input_shape=(256, 256, 3)),\n",
        "      tf.keras.layers.BatchNormalization(),\n",
        "      tf.keras.layers.Activation('swish'),\n",
        "      tf.keras.layers.MaxPooling2D(2,2),\n",
        "      tf.keras.layers.Dropout(0.2),\n",
        "\n",
        "      tf.keras.layers.Conv2D(128, (3,3)),\n",
        "      tf.keras.layers.BatchNormalization(),\n",
        "      tf.keras.layers.Activation('swish'),\n",
        "      tf.keras.layers.MaxPooling2D(2,2),\n",
        "      tf.keras.layers.Dropout(0.2),\n",
        "\n",
        "      tf.keras.layers.Conv2D(64, (3,3)),\n",
        "      tf.keras.layers.BatchNormalization(),\n",
        "      tf.keras.layers.Activation('swish'),\n",
        "      tf.keras.layers.MaxPooling2D(2,2),\n",
        "      tf.keras.layers.Dropout(0.2),\n",
        "\n",
        "      tf.keras.layers.Conv2D(64, (3,3)),\n",
        "      tf.keras.layers.BatchNormalization(),\n",
        "      tf.keras.layers.Activation('swish'),\n",
        "      tf.keras.layers.MaxPooling2D(2,2),\n",
        "      tf.keras.layers.Dropout(0.2),\n",
        "\n",
        "      tf.keras.layers.Conv2D(64, (3,3)),\n",
        "      tf.keras.layers.BatchNormalization(),\n",
        "      tf.keras.layers.Activation('swish'),\n",
        "      tf.keras.layers.MaxPooling2D(2,2),\n",
        "      tf.keras.layers.Dropout(0.2),\n",
        "\n",
        "      tf.keras.layers.Conv2D(64, (3,3)),\n",
        "      tf.keras.layers.BatchNormalization(),\n",
        "      tf.keras.layers.Activation('swish'),\n",
        "      tf.keras.layers.MaxPooling2D(2,2),\n",
        "      tf.keras.layers.Dropout(0.2),\n",
        "\n",
        "      tf.keras.layers.GlobalAveragePooling2D(),\n",
        "\n",
        "      tf.keras.layers.Dense(1024),\n",
        "      tf.keras.layers.BatchNormalization(),\n",
        "      tf.keras.layers.Activation('swish'),\n",
        "\n",
        "      tf.keras.layers.Dense(4, activation='softmax')\n",
        "    ])\n",
        "\n",
        "  #optimizer = tf.keras.optimizers.Adam(learning_rate=0.01)\n",
        "  optimizer = tf.keras.optimizers.Adam(learning_rate=0.001209054747596383)\n",
        "  model.compile(loss = 'categorical_crossentropy', optimizer=optimizer, metrics=['accuracy'])\n",
        "\n",
        "  model.summary()\n",
        "\n",
        "  return model"
      ],
      "metadata": {
        "id": "I_E35uv7fhfE"
      },
      "execution_count": null,
      "outputs": []
    },
    {
      "cell_type": "code",
      "source": [
        "model = model_BN_training()"
      ],
      "metadata": {
        "id": "U7NwnPLtS2br"
      },
      "execution_count": null,
      "outputs": []
    },
    {
      "cell_type": "code",
      "execution_count": null,
      "metadata": {
        "id": "pzoOJ2lh5S1I"
      },
      "outputs": [],
      "source": [
        "history = model.fit(train_generator,\n",
        "                    epochs=1,\n",
        "                    verbose=1,\n",
        "                    validation_data=validation_generator,\n",
        "                    #callbacks=[lr_schedule])\n",
        "                    callbacks=[model_save, reduce_lr, early_stopping])"
      ]
    },
    {
      "cell_type": "code",
      "execution_count": null,
      "metadata": {
        "id": "_Q3Zpr46dsij"
      },
      "outputs": [],
      "source": [
        "import matplotlib.pyplot as plt\n",
        "\n",
        "acc = history.history['accuracy']\n",
        "val_acc = history.history['val_accuracy']\n",
        "loss = history.history['loss']\n",
        "val_loss = history.history['val_loss']\n",
        "\n",
        "epochs = range(len(acc))\n",
        "\n",
        "plt.plot(epochs, acc, 'r', label='Training accuracy')\n",
        "plt.plot(epochs, val_acc, 'b', label='Validation accuracy')\n",
        "plt.title('Training and validation accuracy')\n",
        "plt.legend()\n",
        "plt.figure()\n",
        "\n",
        "plt.plot(epochs, loss, 'r', label='Training Loss')\n",
        "plt.plot(epochs, val_loss, 'b', label='Validation Loss')\n",
        "plt.title('Training and validation loss')\n",
        "plt.legend()\n",
        "\n",
        "plt.show()"
      ]
    },
    {
      "cell_type": "code",
      "source": [
        "from tensorflow.keras.models import save_model\n",
        "\n",
        "save_model(model, \"/content/model_30_80.h5\")"
      ],
      "metadata": {
        "id": "r7i2cJdPSv3K"
      },
      "execution_count": null,
      "outputs": []
    },
    {
      "cell_type": "markdown",
      "source": [
        "# PREDICCIONES"
      ],
      "metadata": {
        "id": "AhT-11qCPNye"
      }
    },
    {
      "cell_type": "code",
      "source": [
        "def model_BN_inference():\n",
        "  model = tf.keras.models.Sequential([\n",
        "      tf.keras.layers.Conv2D(128, (3,3), input_shape=(256, 256, 3)),\n",
        "      tf.keras.layers.BatchNormalization(),\n",
        "      tf.keras.layers.Activation('swish'),\n",
        "      tf.keras.layers.MaxPooling2D(2,2),\n",
        "      tf.keras.layers.Dropout(0.2),\n",
        "\n",
        "      tf.keras.layers.Conv2D(128, (3,3)),\n",
        "      tf.keras.layers.BatchNormalization(),\n",
        "      tf.keras.layers.Activation('swish'),\n",
        "      tf.keras.layers.MaxPooling2D(2,2),\n",
        "      tf.keras.layers.Dropout(0.2),\n",
        "\n",
        "      tf.keras.layers.Conv2D(64, (3,3)),\n",
        "      tf.keras.layers.BatchNormalization(),\n",
        "      tf.keras.layers.Activation('swish'),\n",
        "      tf.keras.layers.MaxPooling2D(2,2),\n",
        "      tf.keras.layers.Dropout(0.2),\n",
        "\n",
        "      tf.keras.layers.Conv2D(64, (3,3)),\n",
        "      tf.keras.layers.BatchNormalization(),\n",
        "      tf.keras.layers.Activation('swish'),\n",
        "      tf.keras.layers.MaxPooling2D(2,2),\n",
        "      tf.keras.layers.Dropout(0.2),\n",
        "\n",
        "      tf.keras.layers.Conv2D(64, (3,3)),\n",
        "      tf.keras.layers.BatchNormalization(),\n",
        "      tf.keras.layers.Activation('swish'),\n",
        "      tf.keras.layers.MaxPooling2D(2,2),\n",
        "      tf.keras.layers.Dropout(0.2),\n",
        "\n",
        "      tf.keras.layers.Conv2D(64, (3,3)),\n",
        "      tf.keras.layers.BatchNormalization(),\n",
        "      tf.keras.layers.Activation('swish'),\n",
        "      tf.keras.layers.MaxPooling2D(2,2),\n",
        "      tf.keras.layers.Dropout(0.2),\n",
        "\n",
        "      tf.keras.layers.GlobalAveragePooling2D(),\n",
        "\n",
        "      tf.keras.layers.Dense(1024),\n",
        "      tf.keras.layers.BatchNormalization(),\n",
        "      tf.keras.layers.Activation('swish'),\n",
        "\n",
        "      tf.keras.layers.Dense(4, activation='softmax')\n",
        "    ])\n",
        "\n",
        "  optimizer = tf.keras.optimizers.Adam(learning_rate=0.01)\n",
        "  model.compile(loss = 'categorical_crossentropy', optimizer=optimizer, metrics=['accuracy'])\n",
        "\n",
        "  model.summary()\n",
        "\n",
        "  return model"
      ],
      "metadata": {
        "id": "kdvMaBW0OfVS"
      },
      "execution_count": 7,
      "outputs": []
    },
    {
      "cell_type": "code",
      "source": [
        "inference_model = model_BN_inference()"
      ],
      "metadata": {
        "colab": {
          "base_uri": "https://localhost:8080/"
        },
        "id": "wVp6F4hHOk9Q",
        "outputId": "e47ed8c4-953a-4f26-8bf6-23204ef60993"
      },
      "execution_count": 8,
      "outputs": [
        {
          "output_type": "stream",
          "name": "stdout",
          "text": [
            "Model: \"sequential\"\n",
            "_________________________________________________________________\n",
            " Layer (type)                Output Shape              Param #   \n",
            "=================================================================\n",
            " conv2d (Conv2D)             (None, 254, 254, 128)     3584      \n",
            "                                                                 \n",
            " batch_normalization (BatchN  (None, 254, 254, 128)    512       \n",
            " ormalization)                                                   \n",
            "                                                                 \n",
            " activation (Activation)     (None, 254, 254, 128)     0         \n",
            "                                                                 \n",
            " max_pooling2d (MaxPooling2D  (None, 127, 127, 128)    0         \n",
            " )                                                               \n",
            "                                                                 \n",
            " dropout (Dropout)           (None, 127, 127, 128)     0         \n",
            "                                                                 \n",
            " conv2d_1 (Conv2D)           (None, 125, 125, 128)     147584    \n",
            "                                                                 \n",
            " batch_normalization_1 (Batc  (None, 125, 125, 128)    512       \n",
            " hNormalization)                                                 \n",
            "                                                                 \n",
            " activation_1 (Activation)   (None, 125, 125, 128)     0         \n",
            "                                                                 \n",
            " max_pooling2d_1 (MaxPooling  (None, 62, 62, 128)      0         \n",
            " 2D)                                                             \n",
            "                                                                 \n",
            " dropout_1 (Dropout)         (None, 62, 62, 128)       0         \n",
            "                                                                 \n",
            " conv2d_2 (Conv2D)           (None, 60, 60, 64)        73792     \n",
            "                                                                 \n",
            " batch_normalization_2 (Batc  (None, 60, 60, 64)       256       \n",
            " hNormalization)                                                 \n",
            "                                                                 \n",
            " activation_2 (Activation)   (None, 60, 60, 64)        0         \n",
            "                                                                 \n",
            " max_pooling2d_2 (MaxPooling  (None, 30, 30, 64)       0         \n",
            " 2D)                                                             \n",
            "                                                                 \n",
            " dropout_2 (Dropout)         (None, 30, 30, 64)        0         \n",
            "                                                                 \n",
            " conv2d_3 (Conv2D)           (None, 28, 28, 64)        36928     \n",
            "                                                                 \n",
            " batch_normalization_3 (Batc  (None, 28, 28, 64)       256       \n",
            " hNormalization)                                                 \n",
            "                                                                 \n",
            " activation_3 (Activation)   (None, 28, 28, 64)        0         \n",
            "                                                                 \n",
            " max_pooling2d_3 (MaxPooling  (None, 14, 14, 64)       0         \n",
            " 2D)                                                             \n",
            "                                                                 \n",
            " dropout_3 (Dropout)         (None, 14, 14, 64)        0         \n",
            "                                                                 \n",
            " conv2d_4 (Conv2D)           (None, 12, 12, 64)        36928     \n",
            "                                                                 \n",
            " batch_normalization_4 (Batc  (None, 12, 12, 64)       256       \n",
            " hNormalization)                                                 \n",
            "                                                                 \n",
            " activation_4 (Activation)   (None, 12, 12, 64)        0         \n",
            "                                                                 \n",
            " max_pooling2d_4 (MaxPooling  (None, 6, 6, 64)         0         \n",
            " 2D)                                                             \n",
            "                                                                 \n",
            " dropout_4 (Dropout)         (None, 6, 6, 64)          0         \n",
            "                                                                 \n",
            " conv2d_5 (Conv2D)           (None, 4, 4, 64)          36928     \n",
            "                                                                 \n",
            " batch_normalization_5 (Batc  (None, 4, 4, 64)         256       \n",
            " hNormalization)                                                 \n",
            "                                                                 \n",
            " activation_5 (Activation)   (None, 4, 4, 64)          0         \n",
            "                                                                 \n",
            " max_pooling2d_5 (MaxPooling  (None, 2, 2, 64)         0         \n",
            " 2D)                                                             \n",
            "                                                                 \n",
            " dropout_5 (Dropout)         (None, 2, 2, 64)          0         \n",
            "                                                                 \n",
            " global_average_pooling2d (G  (None, 64)               0         \n",
            " lobalAveragePooling2D)                                          \n",
            "                                                                 \n",
            " dense (Dense)               (None, 1024)              66560     \n",
            "                                                                 \n",
            " batch_normalization_6 (Batc  (None, 1024)             4096      \n",
            " hNormalization)                                                 \n",
            "                                                                 \n",
            " activation_6 (Activation)   (None, 1024)              0         \n",
            "                                                                 \n",
            " dense_1 (Dense)             (None, 4)                 4100      \n",
            "                                                                 \n",
            "=================================================================\n",
            "Total params: 412,548\n",
            "Trainable params: 409,476\n",
            "Non-trainable params: 3,072\n",
            "_________________________________________________________________\n"
          ]
        }
      ]
    },
    {
      "cell_type": "code",
      "source": [
        "from tensorflow.keras.models import load_model\n",
        "\n",
        "#imported_model = load_model('/content/weights/Model_batch1.h5')\n",
        "#imported_model = load_model('/content/drive/MyDrive/Data/COVID_data/Model_batch1.h5')\n",
        "#imported_model = load_model('/content/drive/MyDrive/Data/Model.h5')\n",
        "imported_model = load_model('/content/drive/MyDrive/Data/COVID_data/Model_0.9140.h5')\n",
        "weights = imported_model.get_weights()\n",
        "\n",
        "inference_model.set_weights(weights)"
      ],
      "metadata": {
        "id": "LG61T0TZD_Wg"
      },
      "execution_count": 9,
      "outputs": []
    },
    {
      "cell_type": "code",
      "source": [
        "import tensorflow as tf\n",
        "import numpy as np\n",
        "from tensorflow.keras.models import load_model\n",
        "from sklearn.metrics import confusion_matrix, accuracy_score, recall_score\n",
        "\n",
        "imported_model = load_model('/content/drive/MyDrive/Data/COVID_data/Model_0.9140.h5')\n",
        "weights = imported_model.get_weights()\n",
        "inference_model.set_weights(weights)\n",
        "\n",
        "for layer_pos in range(len(imported_model.layers)):\n",
        "  if isinstance(imported_model.layers[layer_pos], tf.keras.layers.BatchNormalization):\n",
        "    print(imported_model.layers[layer_pos].name, inference_model.layers[layer_pos].name)\n",
        "    layer = imported_model.layers[layer_pos]\n",
        "    saved_mean = layer.moving_mean.numpy()\n",
        "    saved_variance = layer.moving_variance.numpy()\n",
        "    saved_gamma = layer.gamma.numpy()\n",
        "    saved_beta = layer.beta.numpy()\n",
        "\n",
        "    layer_i = inference_model.layers[layer_pos]\n",
        "    layer_i.moving_mean.assign(saved_mean)\n",
        "    layer_i.moving_variance.assign(saved_variance)\n",
        "    layer_i.gamma.assign(saved_gamma)\n",
        "    layer_i.beta.assign(saved_beta)\n",
        "    layer_i.training = False\n",
        "    inference_model.layers[layer_pos] = layer_i\n",
        "\n",
        "  if isinstance(inference_model.layers[layer_pos], tf.keras.layers.Dropout):\n",
        "    inference_model.layers[layer_pos].training = False\n",
        "\n",
        "\"\"\"\n",
        "for layer in imported_model.layers:\n",
        "  for layer_i in inference_model.layers:\n",
        "    if isinstance(layer_i, tf.keras.layers.BatchNormalization):\n",
        "      print(layer.name)\n",
        "    #print(layer.name)\n",
        "    if isinstance(layer, tf.keras.layers.BatchNormalization):\n",
        "      if isinstance(layer_i, tf.keras.layers.BatchNormalization):\n",
        "        print(layer.name, layer_i.name)\n",
        "        saved_mean = layer.moving_mean.numpy()\n",
        "        saved_variance = layer.moving_variance.numpy()\n",
        "        saved_gamma = layer.gamma.numpy()\n",
        "        saved_beta = layer.beta.numpy()\n",
        "\n",
        "        layer_i.moving_mean.assign(saved_mean)\n",
        "        layer_i.moving_variance.assign(saved_variance)\n",
        "        layer_i.gamma.assign(saved_gamma)\n",
        "        layer_i.beta.assign(saved_beta)\n",
        "\n",
        "    break\n",
        "\"\"\"\n",
        "\n",
        "\"\"\"\n",
        "#model = tf.keras.models.clone_model(model)\n",
        "for layer in inference_model.layers:\n",
        "    if isinstance(layer, tf.keras.layers.Dropout):\n",
        "        layer.training = False  # Set dropout rate to 0 to disable dropout during inference\n",
        "\"\"\"\n",
        "# Accuracy using evaluate\n",
        "loss, accuracy = inference_model.evaluate(validation_generator)\n",
        "print(f\"Accuracy: {accuracy}\")\n",
        "\n",
        "# Confusion Matrix\n",
        "y_pred = inference_model.predict(validation_generator)\n",
        "y_pred_classes = np.argmax(y_pred, axis=1)\n",
        "print(y_pred_classes)\n",
        "y_true = validation_generator.classes\n",
        "print(y_true)\n",
        "\n",
        "confusion_mtx = confusion_matrix(y_true, y_pred_classes)\n",
        "print(confusion_mtx)\n",
        "recall = recall_score(y_true, y_pred_classes, average='weighted')\n",
        "print(\"Recall:\", recall)\n",
        "accuracy = accuracy_score(y_true, y_pred_classes)\n",
        "print(\"Accuracy:\", accuracy)\n",
        "\n",
        "\"\"\"\n",
        "# Precision, Recall\n",
        "accuracy = tf.keras.metrics.Accuracy()\n",
        "recall = tf.keras.metrics.Recall()\n",
        "\n",
        "accuracy.update_state(y_true, y_pred_classes)\n",
        "recall.update_state(y_true, y_pred_classes)\n",
        "\n",
        "accuracy_result = accuracy.result().numpy()\n",
        "recall_result = recall.result().numpy()\n",
        "\n",
        "print(\"Accuracy:\", accuracy_result)\n",
        "print(\"Recall:\", recall_result)\n",
        "\"\"\""
      ],
      "metadata": {
        "colab": {
          "base_uri": "https://localhost:8080/",
          "height": 365
        },
        "id": "1NGC85FAGaoo",
        "outputId": "b4239142-0df1-4a4d-de19-02e57928f9d9"
      },
      "execution_count": 11,
      "outputs": [
        {
          "output_type": "stream",
          "name": "stdout",
          "text": [
            "batch_normalization batch_normalization\n",
            "batch_normalization_1 batch_normalization_1\n",
            "batch_normalization_2 batch_normalization_2\n",
            "batch_normalization_3 batch_normalization_3\n",
            "batch_normalization_4 batch_normalization_4\n",
            "batch_normalization_5 batch_normalization_5\n",
            "batch_normalization_6 batch_normalization_6\n",
            "133/133 [==============================] - 30s 150ms/step - loss: 0.2472 - accuracy: 0.9140\n",
            "Accuracy: 0.9139886498451233\n",
            "133/133 [==============================] - 17s 123ms/step\n",
            "[2 2 0 ... 2 0 1]\n",
            "[0 0 0 ... 3 3 3]\n",
            "[[ 105  196  376   46]\n",
            " [ 207  316  602   77]\n",
            " [ 330  538 1050  120]\n",
            " [  43   78  137   11]]\n",
            "Recall: 0.3501890359168242\n",
            "Accuracy: 0.3501890359168242\n"
          ]
        },
        {
          "output_type": "execute_result",
          "data": {
            "text/plain": [
              "'\\n# Precision, Recall\\naccuracy = tf.keras.metrics.Accuracy()\\nrecall = tf.keras.metrics.Recall()\\n\\naccuracy.update_state(y_true, y_pred_classes)\\nrecall.update_state(y_true, y_pred_classes)\\n\\naccuracy_result = accuracy.result().numpy()\\nrecall_result = recall.result().numpy()\\n\\nprint(\"Accuracy:\", accuracy_result)\\nprint(\"Recall:\", recall_result)\\n'"
            ],
            "application/vnd.google.colaboratory.intrinsic+json": {
              "type": "string"
            }
          },
          "metadata": {},
          "execution_count": 11
        }
      ]
    }
  ],
  "metadata": {
    "accelerator": "GPU",
    "colab": {
      "provenance": [],
      "include_colab_link": true
    },
    "gpuClass": "standard",
    "kernelspec": {
      "display_name": "Python 3",
      "name": "python3"
    },
    "language_info": {
      "name": "python"
    }
  },
  "nbformat": 4,
  "nbformat_minor": 0
}